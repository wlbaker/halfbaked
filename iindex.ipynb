{
 "cells": [
  {
   "cell_type": "code",
   "execution_count": 3,
   "metadata": {},
   "outputs": [
    {
     "name": "stdout",
     "output_type": "stream",
     "text": [
      "package 'remotes' successfully unpacked and MD5 sums checked\n",
      "\n",
      "The downloaded binary packages are in\n",
      "\tC:\\Users\\bbaker\\AppData\\Local\\Temp\\RtmpSGgd26\\downloaded_packages\n"
     ]
    },
    {
     "name": "stderr",
     "output_type": "stream",
     "text": [
      "Downloading GitHub repo centerforopenscience/osfr@master\n"
     ]
    },
    {
     "name": "stdout",
     "output_type": "stream",
     "text": [
      "assertthat (NA -> 0.2.1) [CRAN]\n",
      "cli        (NA -> 1.1.0) [CRAN]\n",
      "crul       (NA -> 0.7.4) [CRAN]\n",
      "curl       (NA -> 3.3  ) [CRAN]\n",
      "fansi      (NA -> 0.4.0) [CRAN]\n",
      "fs         (NA -> 1.2.7) [CRAN]\n",
      "httpcode   (NA -> 0.2.0) [CRAN]\n",
      "magrittr   (NA -> 1.5  ) [CRAN]\n",
      "mime       (NA -> 0.6  ) [CRAN]\n",
      "pillar     (NA -> 1.3.1) [CRAN]\n",
      "pkgconfig  (NA -> 2.0.2) [CRAN]\n",
      "purrr      (NA -> 0.3.2) [CRAN]\n",
      "R6         (NA -> 2.4.0) [CRAN]\n",
      "rlang      (NA -> 0.3.4) [CRAN]\n",
      "stringi    (NA -> 1.4.3) [CRAN]\n",
      "tibble     (NA -> 2.1.1) [CRAN]\n",
      "triebeard  (NA -> 0.3.0) [CRAN]\n",
      "urltools   (NA -> 1.7.3) [CRAN]\n",
      "utf8       (NA -> 1.1.4) [CRAN]\n"
     ]
    },
    {
     "name": "stderr",
     "output_type": "stream",
     "text": [
      "Installing 19 packages: assertthat, cli, crul, curl, fansi, fs, httpcode, magrittr, mime, pillar, pkgconfig, purrr, R6, rlang, stringi, tibble, triebeard, urltools, utf8\n"
     ]
    },
    {
     "name": "stdout",
     "output_type": "stream",
     "text": [
      "package 'assertthat' successfully unpacked and MD5 sums checked\n",
      "package 'cli' successfully unpacked and MD5 sums checked\n",
      "package 'crul' successfully unpacked and MD5 sums checked\n",
      "package 'curl' successfully unpacked and MD5 sums checked\n",
      "package 'fansi' successfully unpacked and MD5 sums checked\n",
      "package 'fs' successfully unpacked and MD5 sums checked\n",
      "package 'httpcode' successfully unpacked and MD5 sums checked\n",
      "package 'magrittr' successfully unpacked and MD5 sums checked\n",
      "package 'mime' successfully unpacked and MD5 sums checked\n",
      "package 'pillar' successfully unpacked and MD5 sums checked\n",
      "package 'pkgconfig' successfully unpacked and MD5 sums checked\n",
      "package 'purrr' successfully unpacked and MD5 sums checked\n",
      "package 'R6' successfully unpacked and MD5 sums checked\n",
      "package 'rlang' successfully unpacked and MD5 sums checked\n",
      "package 'stringi' successfully unpacked and MD5 sums checked\n",
      "package 'tibble' successfully unpacked and MD5 sums checked\n",
      "package 'triebeard' successfully unpacked and MD5 sums checked\n",
      "package 'urltools' successfully unpacked and MD5 sums checked\n",
      "package 'utf8' successfully unpacked and MD5 sums checked\n",
      "\n",
      "The downloaded binary packages are in\n",
      "\tC:\\Users\\bbaker\\AppData\\Local\\Temp\\RtmpSGgd26\\downloaded_packages\n"
     ]
    },
    {
     "name": "stderr",
     "output_type": "stream",
     "text": [
      "Running `R CMD build`...\n"
     ]
    },
    {
     "name": "stdout",
     "output_type": "stream",
     "text": [
      "* checking for file 'C:\\Users\\bbaker\\AppData\\Local\\Temp\\RtmpSGgd26\\remotes570c1c1f4a32\\CenterForOpenScience-osfr-c0441f9/DESCRIPTION' ... OK\n",
      "* preparing 'osfr':\n",
      "* checking DESCRIPTION meta-information ... OK\n",
      "* checking for LF line-endings in source and make files and shell scripts\n",
      "* checking for empty or unneeded directories\n",
      "* building 'osfr_0.2.4.tar.gz'\n"
     ]
    }
   ],
   "source": [
    "install.packages('remotes')\n",
    "remotes::install_github(\"centerforopenscience/osfr\")\n"
   ]
  },
  {
   "cell_type": "code",
   "execution_count": 5,
   "metadata": {},
   "outputs": [
    {
     "name": "stderr",
     "output_type": "stream",
     "text": [
      "Registered PAT from the provided token\n"
     ]
    },
    {
     "data": {
      "text/html": [
       "<table>\n",
       "<thead><tr><th scope=col>name</th><th scope=col>id</th><th scope=col>meta</th></tr></thead>\n",
       "<tbody>\n",
       "\t<tr><td>A-16-037 PH REBOA                                                                                                                                                                                                                                                                                                                                                                                                                                                                                                                                                                                                                                                                                                                                                                                                                                                                                                                                                                                                                                                                                                                                                                                                                                                                                                                                                                                                                                                                                                                                                                                                                                                                                                                                                                                                                                                                                                                                                                                                                                                                                                                                                                                                                                                                                                                                                                                                                                                                                                                                                                                                                                                                                                                                                                                                                                                                                                                                                                                                                                                                                                                                                                                                                                                                                                                                                                                                                                                                                                                                                                                                    </td><td>kwuyh                                                                                                                                                                                                                                                                                                                                                                                                                                                                                                                                                                                                                                                                                                                                                                                                                                                                                                                                                                                                                                                                                                                                                                                                                                                                                                                                                                                                                                                                                                                                                                                                                                                                                                                                                                                                                                                                                                                                                                                                                                                                                                                                                                                                                                                                                                                                                                                                                                                                                                                                                                                                                                                                                                                                                                                                                                                                                                                                                                                                                                                                                                                                                                                                                                                                                                                                                                                                                                                                                                                                                                                                                </td><td>project                                                              , FALSE                                                                , TRUE                                                                 , FALSE                                                                , Partial Occlusion REBOA                                              , read                                                                 , write                                                                , admin                                                                , A-16-037 PH REBOA                                                    , TRUE                                                                 , 1555960424                                                           , FALSE                                                                , FALSE                                                                , FALSE                                                                , 1555701845                                                           , TRUE                                                                 , TRUE                                                                 , https://api.osf.io/v2/nodes/kwuyh/                                   , https://osf.io/kwuyh/                                                , https://api.osf.io/v2/nodes/kwuyh/logs/                              , https://api.osf.io/v2/nodes/kwuyh/contributors/                      , https://api.osf.io/v2/nodes/kwuyh/citation/                          , https://api.osf.io/v2/nodes/kwuyh/relationships/linked_registrations/, https://api.osf.io/v2/nodes/kwuyh/linked_registrations/              , https://api.osf.io/v2/nodes/kwuyh/children/                          , https://api.osf.io/v2/nodes/kwuyh/view_only_links/                   , https://api.osf.io/v2/nodes/kwuyh/comments/?filter%5Btarget%5D=kwuyh , https://api.osf.io/v2/nodes/kwuyh/linked_by_registrations/           , https://api.osf.io/v2/nodes/kwuyh/forks/                             , https://api.osf.io/v2/nodes/kwuyh/files/                             , https://api.osf.io/v2/nodes/kwuyh/draft_registrations/               , https://api.osf.io/v2/nodes/kwuyh/relationships/institutions/        , https://api.osf.io/v2/nodes/kwuyh/institutions/                      , https://api.osf.io/v2/nodes/kwuyh/settings/                          , regions                                                              , us                                                                   , https://api.osf.io/v2/regions/us/                                    , https://api.osf.io/v2/nodes/kwuyh/identifiers/                       , https://api.osf.io/v2/nodes/kwuyh/linked_by_nodes/                   , https://api.osf.io/v2/nodes/kwuyh/registrations/                     , https://api.osf.io/v2/nodes/kwuyh/node_links/                        , https://api.osf.io/v2/nodes/kwuyh/relationships/linked_nodes/        , https://api.osf.io/v2/nodes/kwuyh/linked_nodes/                      , https://api.osf.io/v2/nodes/kwuyh/wikis/                             , nodes                                                                , kwuyh                                                                , https://api.osf.io/v2/nodes/kwuyh/                                   , https://api.osf.io/v2/nodes/kwuyh/preprints/                         , https://api.osf.io/v2/nodes/kwuyh/implicit_contributors/             </td></tr>\n",
       "</tbody>\n",
       "</table>\n"
      ],
      "text/latex": [
       "\\begin{tabular}{r|lll}\n",
       " name & id & meta\\\\\n",
       "\\hline\n",
       "\t A-16-037 PH REBOA                                                                                                                                                                                                                                                                                                                                                                                                                                                                                                                                                                                                                                                                                                                                                                                                                                                                                                                                                                                                                                                                                                                                                                                                                                                                                                                                                                                                                                                                                                                                                                                                                                                                                                                                                                                                                                                                                                                                                                                                                                                                                                                                                                                                                                                                                                                                                                                                                                                                                                                                                                                                                                                                                                                                                                                                                                                                                                                                                                                                                                                                                                                                                                                                                                                                                                                                                                                                                                                                                                                                                                                                                                   & kwuyh                                                                                                                                                                                                                                                                                                                                                                                                                                                                                                                                                                                                                                                                                                                                                                                                                                                                                                                                                                                                                                                                                                                                                                                                                                                                                                                                                                                                                                                                                                                                                                                                                                                                                                                                                                                                                                                                                                                                                                                                                                                                                                                                                                                                                                                                                                                                                                                                                                                                                                                                                                                                                                                                                                                                                                                                                                                                                                                                                                                                                                                                                                                                                                                                                                                                                                                                                                                                                                                                                                                                                                                                                                               & project                                                              , FALSE                                                                , TRUE                                                                 , FALSE                                                                , Partial Occlusion REBOA                                              , read                                                                 , write                                                                , admin                                                                , A-16-037 PH REBOA                                                    , TRUE                                                                 , 1555960424                                                           , FALSE                                                                , FALSE                                                                , FALSE                                                                , 1555701845                                                           , TRUE                                                                 , TRUE                                                                 , https://api.osf.io/v2/nodes/kwuyh/                                   , https://osf.io/kwuyh/                                                , https://api.osf.io/v2/nodes/kwuyh/logs/                              , https://api.osf.io/v2/nodes/kwuyh/contributors/                      , https://api.osf.io/v2/nodes/kwuyh/citation/                          , https://api.osf.io/v2/nodes/kwuyh/relationships/linked\\_registrations/, https://api.osf.io/v2/nodes/kwuyh/linked\\_registrations/              , https://api.osf.io/v2/nodes/kwuyh/children/                          , https://api.osf.io/v2/nodes/kwuyh/view\\_only\\_links/                   , https://api.osf.io/v2/nodes/kwuyh/comments/?filter\\%5Btarget\\%5D=kwuyh , https://api.osf.io/v2/nodes/kwuyh/linked\\_by\\_registrations/           , https://api.osf.io/v2/nodes/kwuyh/forks/                             , https://api.osf.io/v2/nodes/kwuyh/files/                             , https://api.osf.io/v2/nodes/kwuyh/draft\\_registrations/               , https://api.osf.io/v2/nodes/kwuyh/relationships/institutions/        , https://api.osf.io/v2/nodes/kwuyh/institutions/                      , https://api.osf.io/v2/nodes/kwuyh/settings/                          , regions                                                              , us                                                                   , https://api.osf.io/v2/regions/us/                                    , https://api.osf.io/v2/nodes/kwuyh/identifiers/                       , https://api.osf.io/v2/nodes/kwuyh/linked\\_by\\_nodes/                   , https://api.osf.io/v2/nodes/kwuyh/registrations/                     , https://api.osf.io/v2/nodes/kwuyh/node\\_links/                        , https://api.osf.io/v2/nodes/kwuyh/relationships/linked\\_nodes/        , https://api.osf.io/v2/nodes/kwuyh/linked\\_nodes/                      , https://api.osf.io/v2/nodes/kwuyh/wikis/                             , nodes                                                                , kwuyh                                                                , https://api.osf.io/v2/nodes/kwuyh/                                   , https://api.osf.io/v2/nodes/kwuyh/preprints/                         , https://api.osf.io/v2/nodes/kwuyh/implicit\\_contributors/             \\\\\n",
       "\\end{tabular}\n"
      ],
      "text/markdown": [
       "\n",
       "| name | id | meta |\n",
       "|---|---|---|\n",
       "| A-16-037 PH REBOA                                                                                                                                                                                                                                                                                                                                                                                                                                                                                                                                                                                                                                                                                                                                                                                                                                                                                                                                                                                                                                                                                                                                                                                                                                                                                                                                                                                                                                                                                                                                                                                                                                                                                                                                                                                                                                                                                                                                                                                                                                                                                                                                                                                                                                                                                                                                                                                                                                                                                                                                                                                                                                                                                                                                                                                                                                                                                                                                                                                                                                                                                                                                                                                                                                                                                                                                                                                                                                                                                                                                                                                                     | kwuyh                                                                                                                                                                                                                                                                                                                                                                                                                                                                                                                                                                                                                                                                                                                                                                                                                                                                                                                                                                                                                                                                                                                                                                                                                                                                                                                                                                                                                                                                                                                                                                                                                                                                                                                                                                                                                                                                                                                                                                                                                                                                                                                                                                                                                                                                                                                                                                                                                                                                                                                                                                                                                                                                                                                                                                                                                                                                                                                                                                                                                                                                                                                                                                                                                                                                                                                                                                                                                                                                                                                                                                                                                 | project                                                              , FALSE                                                                , TRUE                                                                 , FALSE                                                                , Partial Occlusion REBOA                                              , read                                                                 , write                                                                , admin                                                                , A-16-037 PH REBOA                                                    , TRUE                                                                 , 1555960424                                                           , FALSE                                                                , FALSE                                                                , FALSE                                                                , 1555701845                                                           , TRUE                                                                 , TRUE                                                                 , https://api.osf.io/v2/nodes/kwuyh/                                   , https://osf.io/kwuyh/                                                , https://api.osf.io/v2/nodes/kwuyh/logs/                              , https://api.osf.io/v2/nodes/kwuyh/contributors/                      , https://api.osf.io/v2/nodes/kwuyh/citation/                          , https://api.osf.io/v2/nodes/kwuyh/relationships/linked_registrations/, https://api.osf.io/v2/nodes/kwuyh/linked_registrations/              , https://api.osf.io/v2/nodes/kwuyh/children/                          , https://api.osf.io/v2/nodes/kwuyh/view_only_links/                   , https://api.osf.io/v2/nodes/kwuyh/comments/?filter%5Btarget%5D=kwuyh , https://api.osf.io/v2/nodes/kwuyh/linked_by_registrations/           , https://api.osf.io/v2/nodes/kwuyh/forks/                             , https://api.osf.io/v2/nodes/kwuyh/files/                             , https://api.osf.io/v2/nodes/kwuyh/draft_registrations/               , https://api.osf.io/v2/nodes/kwuyh/relationships/institutions/        , https://api.osf.io/v2/nodes/kwuyh/institutions/                      , https://api.osf.io/v2/nodes/kwuyh/settings/                          , regions                                                              , us                                                                   , https://api.osf.io/v2/regions/us/                                    , https://api.osf.io/v2/nodes/kwuyh/identifiers/                       , https://api.osf.io/v2/nodes/kwuyh/linked_by_nodes/                   , https://api.osf.io/v2/nodes/kwuyh/registrations/                     , https://api.osf.io/v2/nodes/kwuyh/node_links/                        , https://api.osf.io/v2/nodes/kwuyh/relationships/linked_nodes/        , https://api.osf.io/v2/nodes/kwuyh/linked_nodes/                      , https://api.osf.io/v2/nodes/kwuyh/wikis/                             , nodes                                                                , kwuyh                                                                , https://api.osf.io/v2/nodes/kwuyh/                                   , https://api.osf.io/v2/nodes/kwuyh/preprints/                         , https://api.osf.io/v2/nodes/kwuyh/implicit_contributors/              |\n",
       "\n"
      ],
      "text/plain": [
       "  name              id   \n",
       "1 A-16-037 PH REBOA kwuyh\n",
       "  meta                                                                                                                                                                                                                                                                                                                                                                                                                                                                                                                                                                                                                                                                                                                                                                                                                                                                                                                                                                                                                                                                                                                                                                                                                                                                                                                                                                                                                                                                                                                                                                                                                                                                                                                                                                                                                                                                                                                                                                                                                                                                                                                                                                                                                                                                                                                                                                                                                                                                                                                                                                                                                                                                                                                                                                                                                                                                                                                                                                                                                                                                                                                                                                                                                                                                                                                                                                                                                                                                                                                                                                                                                 \n",
       "1 project                                                              , FALSE                                                                , TRUE                                                                 , FALSE                                                                , Partial Occlusion REBOA                                              , read                                                                 , write                                                                , admin                                                                , A-16-037 PH REBOA                                                    , TRUE                                                                 , 1555960424                                                           , FALSE                                                                , FALSE                                                                , FALSE                                                                , 1555701845                                                           , TRUE                                                                 , TRUE                                                                 , https://api.osf.io/v2/nodes/kwuyh/                                   , https://osf.io/kwuyh/                                                , https://api.osf.io/v2/nodes/kwuyh/logs/                              , https://api.osf.io/v2/nodes/kwuyh/contributors/                      , https://api.osf.io/v2/nodes/kwuyh/citation/                          , https://api.osf.io/v2/nodes/kwuyh/relationships/linked_registrations/, https://api.osf.io/v2/nodes/kwuyh/linked_registrations/              , https://api.osf.io/v2/nodes/kwuyh/children/                          , https://api.osf.io/v2/nodes/kwuyh/view_only_links/                   , https://api.osf.io/v2/nodes/kwuyh/comments/?filter%5Btarget%5D=kwuyh , https://api.osf.io/v2/nodes/kwuyh/linked_by_registrations/           , https://api.osf.io/v2/nodes/kwuyh/forks/                             , https://api.osf.io/v2/nodes/kwuyh/files/                             , https://api.osf.io/v2/nodes/kwuyh/draft_registrations/               , https://api.osf.io/v2/nodes/kwuyh/relationships/institutions/        , https://api.osf.io/v2/nodes/kwuyh/institutions/                      , https://api.osf.io/v2/nodes/kwuyh/settings/                          , regions                                                              , us                                                                   , https://api.osf.io/v2/regions/us/                                    , https://api.osf.io/v2/nodes/kwuyh/identifiers/                       , https://api.osf.io/v2/nodes/kwuyh/linked_by_nodes/                   , https://api.osf.io/v2/nodes/kwuyh/registrations/                     , https://api.osf.io/v2/nodes/kwuyh/node_links/                        , https://api.osf.io/v2/nodes/kwuyh/relationships/linked_nodes/        , https://api.osf.io/v2/nodes/kwuyh/linked_nodes/                      , https://api.osf.io/v2/nodes/kwuyh/wikis/                             , nodes                                                                , kwuyh                                                                , https://api.osf.io/v2/nodes/kwuyh/                                   , https://api.osf.io/v2/nodes/kwuyh/preprints/                         , https://api.osf.io/v2/nodes/kwuyh/implicit_contributors/             "
      ]
     },
     "metadata": {},
     "output_type": "display_data"
    }
   ],
   "source": [
    "# You need to setup an OSF personal access token (PAT) to use osfr to manage projects or upload files.\n",
    "library(osfr)\n",
    "\n",
    "rdonlytok <- \"562sWqyllqUPbGPO80NVNLxKi5hFcUYrGNQip08fmwzavMGsidyVTQdu3TA9fqL3qDUiNY\"\n",
    "\n",
    "osf_auth( token = rdonlytok )\n",
    "cr_project <- osf_retrieve_node(\"kwuyh\")\n",
    "cr_project\n"
   ]
  },
  {
   "cell_type": "code",
   "execution_count": 11,
   "metadata": {},
   "outputs": [],
   "source": [
    "setwd(\"c:/opt/git/halfbaked\")"
   ]
  },
  {
   "cell_type": "code",
   "execution_count": 9,
   "metadata": {},
   "outputs": [
    {
     "data": {
      "text/html": [
       "'C:/Users/bbaker'"
      ],
      "text/latex": [
       "'C:/Users/bbaker'"
      ],
      "text/markdown": [
       "'C:/Users/bbaker'"
      ],
      "text/plain": [
       "[1] \"C:/Users/bbaker\""
      ]
     },
     "metadata": {},
     "output_type": "display_data"
    }
   ],
   "source": [
    "getwd()"
   ]
  },
  {
   "cell_type": "code",
   "execution_count": null,
   "metadata": {},
   "outputs": [],
   "source": []
  }
 ],
 "metadata": {
  "kernelspec": {
   "display_name": "R",
   "language": "R",
   "name": "ir"
  },
  "language_info": {
   "codemirror_mode": "r",
   "file_extension": ".r",
   "mimetype": "text/x-r-source",
   "name": "R",
   "pygments_lexer": "r",
   "version": "3.5.3"
  }
 },
 "nbformat": 4,
 "nbformat_minor": 2
}
